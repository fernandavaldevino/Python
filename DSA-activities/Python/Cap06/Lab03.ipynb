{
 "cells": [
  {
   "cell_type": "markdown",
   "id": "456575a0-4bab-4a15-8308-7318fa4348ba",
   "metadata": {},
   "source": [
    "Lab03"
   ]
  },
  {
   "cell_type": "code",
   "execution_count": 7,
   "id": "a96bbeb4-59d1-4062-aab5-676beaf01fc2",
   "metadata": {},
   "outputs": [],
   "source": [
    "musica = '''\n",
    "Todos os dias quando acordo\n",
    "Não tenho mais\n",
    "O tempo que passou\n",
    "Mas tenho muito tempo\n",
    "Temos todo o tempo do mundo\n",
    "Todos os dias\n",
    "Antes de dormir\n",
    "Lembro e esqueço\n",
    "Como foi o dia\n",
    "Sempre em frente\n",
    "Não temos tempo a perder\n",
    "Nosso suor sagrado\n",
    "É bem mais belo\n",
    "Que esse sangue amargo\n",
    "E tão sério\n",
    "E selvagem! Selvagem!\n",
    "Selvagem!\n",
    "Veja o sol\n",
    "Dessa manhã tão cinza\n",
    "A tempestade que chega\n",
    "É da cor dos teus olhos\n",
    "Castanhos\n",
    "Então me abraça forte\n",
    "E diz mais uma vez\n",
    "Que já estamos\n",
    "Distantes de tudo\n",
    "Temos nosso próprio tempo\n",
    "Temos nosso próprio tempo\n",
    "Temos nosso próprio tempo\n",
    "Não tenho medo do escuro\n",
    "Mas deixe as luzes\n",
    "Acesas agora\n",
    "O que foi escondido\n",
    "É o que se escondeu\n",
    "E o que foi prometido\n",
    "Ninguém prometeu\n",
    "Nem foi tempo perdido\n",
    "Somos tão jovens\n",
    "Tão jovens! Tão jovens!\n",
    "'''"
   ]
  },
  {
   "cell_type": "code",
   "execution_count": 11,
   "id": "04de60a6-d9df-49ed-8c61-7df050f6f032",
   "metadata": {},
   "outputs": [],
   "source": [
    "# 1- Crie um REGEX para contar quantas vezes o caracter \"a\" aparece em todo o texto da música.\n",
    "# 2- Crie um REGEX em Python para contar quantas vezes a palavra tempo aparece na música.\n",
    "# 3- Crie um REGEX em Python para extrair as palavras seguidas por exclamação.\n",
    "# 4- Crie um REGEX que extrai qualquer palavra cujo antecessor seja a palavra \"esse\" e o sucessor seja a palavra \"amargo\" em um texto.\n",
    "# 5- Crie um REGEX que retorne as palavras com acento, mas somente os caracteres na palavra que são anteriores ao caracter com acento."
   ]
  },
  {
   "cell_type": "code",
   "execution_count": 12,
   "id": "b2efd7e4-5bac-4376-a915-6a20d3644ccc",
   "metadata": {},
   "outputs": [],
   "source": [
    "import re"
   ]
  },
  {
   "cell_type": "code",
   "execution_count": 13,
   "id": "09e703ea-54c6-4183-93a0-1524ddf25cec",
   "metadata": {},
   "outputs": [
    {
     "name": "stdout",
     "output_type": "stream",
     "text": [
      "O texto acima contém 39 letras 'a'.\n"
     ]
    }
   ],
   "source": [
    "# 1- Crie um REGEX para contar quantas vezes o caracter \"a\" aparece em todo o texto da música.\n",
    "\n",
    "print(\"O texto acima contém {} letras \\'a\\'.\".format(len(re.findall('a', musica))))"
   ]
  },
  {
   "cell_type": "code",
   "execution_count": 14,
   "id": "1935b247-f17e-4ec4-b372-10d596ad6edb",
   "metadata": {},
   "outputs": [
    {
     "name": "stdout",
     "output_type": "stream",
     "text": [
      "A palavra 'tempo' aparece 8 vezes na música\n"
     ]
    }
   ],
   "source": [
    "# 2- Crie um REGEX em Python para contar quantas vezes a palavra tempo aparece na música.\n",
    "\n",
    "print(f\"A palavra \\'tempo\\' aparece {len(re.findall('tempo', musica))} vezes na música\")"
   ]
  },
  {
   "cell_type": "code",
   "execution_count": 25,
   "id": "36faddad-6944-4612-8343-a285c739a44b",
   "metadata": {},
   "outputs": [
    {
     "name": "stdout",
     "output_type": "stream",
     "text": [
      "Palavras seguidas por exclamação: ['selvagem!', 'Selvagem!', 'Selvagem!', 'jovens!', 'jovens!']\n"
     ]
    }
   ],
   "source": [
    "# 3- Crie um REGEX em Python para extrair as palavras seguidas por exclamação.\n",
    "\n",
    "print(f\"Palavras seguidas por exclamação: {re.findall(r'\\b\\w+!', musica)}\")"
   ]
  },
  {
   "cell_type": "code",
   "execution_count": 26,
   "id": "f2bfab66-c6c3-45d6-98c9-dc8351891b6b",
   "metadata": {},
   "outputs": [
    {
     "name": "stdout",
     "output_type": "stream",
     "text": [
      "Palavras que aparecem entre 'esse' e 'amargo': ['sangue']\n"
     ]
    }
   ],
   "source": [
    "# 4- Crie um REGEX que extrai qualquer palavra cujo antecessor seja a palavra \"esse\" e o sucessor seja a palavra \"amargo\" em um texto.\n",
    "\n",
    "print(f\"Palavras que aparecem entre \\'esse\\' e \\'amargo\\': {re.findall(r'esse\\s(\\w+)\\samargo', musica)}\")"
   ]
  },
  {
   "cell_type": "code",
   "execution_count": 28,
   "id": "e743b58a-e5b1-44dc-98c0-fdb1b51d04ed",
   "metadata": {},
   "outputs": [
    {
     "name": "stdout",
     "output_type": "stream",
     "text": [
      "As palavras acentuadas são: ['N', 'esque', 'N', 't', 's', 'manh', 't', 'Ent', 'abra', 'j', 'pr', 'pr', 'pr', 'N', 'Ningu', 't', 'T', 'T']\n"
     ]
    }
   ],
   "source": [
    "# 5- Crie um REGEX que retorne as palavras com acento, mas somente os caracteres na palavra que são anteriores ao caracter com acento.\n",
    "\n",
    "print(f\"As palavras acentuadas são: {re.findall(r'(\\w+)[\\u00C0-\\u017F]+', musica)}\")"
   ]
  },
  {
   "cell_type": "code",
   "execution_count": null,
   "id": "87fe1c7e-754b-4271-9585-62960d86e523",
   "metadata": {},
   "outputs": [],
   "source": []
  }
 ],
 "metadata": {
  "kernelspec": {
   "display_name": "Python 3 (ipykernel)",
   "language": "python",
   "name": "python3"
  },
  "language_info": {
   "codemirror_mode": {
    "name": "ipython",
    "version": 3
   },
   "file_extension": ".py",
   "mimetype": "text/x-python",
   "name": "python",
   "nbconvert_exporter": "python",
   "pygments_lexer": "ipython3",
   "version": "3.12.0"
  }
 },
 "nbformat": 4,
 "nbformat_minor": 5
}
